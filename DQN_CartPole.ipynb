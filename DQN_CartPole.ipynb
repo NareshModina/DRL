{
  "cells": [
    {
      "cell_type": "markdown",
      "metadata": {
        "id": "ohZIaztPpAPA"
      },
      "source": [
        "## TODO:\n",
        "- [ ] Prioritized memory sweeping"
      ]
    },
    {
      "cell_type": "markdown",
      "metadata": {
        "id": "sGCLALeELO95"
      },
      "source": [
        "## Import packages"
      ]
    },
    {
      "cell_type": "code",
      "execution_count": 21,
      "metadata": {
        "id": "FDHHNp3dd1cy"
      },
      "outputs": [],
      "source": [
        "import torch\n",
        "import torch.nn as nn\n",
        "import torch.optim as optim\n",
        "import torch.nn.functional as F\n",
        "import numpy as np #install version 1.26.4\n",
        "import random\n",
        "import gym #install version 0.25.2\n",
        "import matplotlib.pyplot as plt\n",
        "from collections import namedtuple, deque\n",
        "\n",
        "device = torch.device(\"cuda\" if torch.cuda.is_available() else \"cpu\")"
      ]
    },
    {
      "cell_type": "markdown",
      "metadata": {
        "id": "XeL3hOZmLF-N"
      },
      "source": [
        "## Experience replay buffer\n",
        "\n",
        "- First, each step of experience is potentially used in many weight updates, which allows for greater data efficiency.\n",
        "- Second, learning directly from consecutive samples is inefficient, owing to the strong correlations between the samples; randomizing the samples breaks these correla- tions and therefore reduces the variance of the updates.\n",
        "- Third, when learning on- policy the current parameters determine the next data sample that the parameters are trained on. For example, if the maximizing action is to move left then the train- ing samples will be dominated by samples from the left-hand side; if the maximiz- ing action then switches to the right then the training distribution will also switch. It is easy to see how unwanted feedback loops may arise and the parameters could get stuck in a poor local minimum, or even diverge catastrophically.\n",
        "\n",
        "By using experience replay the behaviour distribution is averaged over many of its previous states, smoothing out learning and avoiding oscillations or divergence in the parameters. Note that when learning by experience replay, it is necessary to learn off-policy (because our current parameters are different to those used to generate the sam- ple), which motivates the choice of Q-learning.\n",
        "\n",
        "\n",
        "\n"
      ]
    },
    {
      "cell_type": "code",
      "execution_count": 22,
      "metadata": {
        "id": "iNk6PYTWeIrW"
      },
      "outputs": [],
      "source": [
        "class ReplayBuffer:\n",
        "    def __init__(self, buffer_size, batch_size):\n",
        "        self.memory = deque(maxlen=buffer_size)\n",
        "        self.batch_size = batch_size\n",
        "        self.experience = namedtuple(\"Experience\", field_names=[\"state\", \"action\", \"reward\", \"next_state\", \"done\"])\n",
        "\n",
        "    def add(self, state, action, reward, next_state, done):\n",
        "        e = self.experience(state, action, reward, next_state, done)\n",
        "        self.memory.append(e)\n",
        "\n",
        "    def sample(self):\n",
        "        experiences = random.sample(self.memory, k=self.batch_size)\n",
        "\n",
        "        states = torch.from_numpy(np.vstack([e.state for e in experiences if e is not None])).float().to(device)\n",
        "        actions = torch.from_numpy(np.vstack([e.action for e in experiences if e is not None])).long().to(device)\n",
        "        rewards = torch.from_numpy(np.vstack([e.reward for e in experiences if e is not None])).float().to(device)\n",
        "        next_states = torch.from_numpy(np.vstack([e.next_state for e in experiences if e is not None])).float().to(device)\n",
        "        dones = torch.from_numpy(np.vstack([e.done for e in experiences if e is not None]).astype(np.uint8)).float().to(device)\n",
        "\n",
        "        return (states, actions, rewards, next_states, dones)\n",
        "\n",
        "    def __len__(self):\n",
        "        return len(self.memory)"
      ]
    },
    {
      "cell_type": "markdown",
      "metadata": {
        "id": "k1jWYa0DncS6"
      },
      "source": [
        "## Define the Q network for DRL"
      ]
    },
    {
      "cell_type": "code",
      "execution_count": 23,
      "metadata": {
        "id": "THiDa2lpeRNC"
      },
      "outputs": [],
      "source": [
        "class QNetwork(nn.Module):\n",
        "    def __init__(self, state_size, action_size, seed):\n",
        "        super(QNetwork, self).__init__()\n",
        "        self.seed = torch.manual_seed(seed)\n",
        "        self.fc1 = nn.Linear(state_size, 128)\n",
        "        self.fc2 = nn.Linear(128, 256)\n",
        "        self.fc3 = nn.Linear(256, 128)\n",
        "        self.fc4 = nn.Linear(128, action_size)\n",
        "\n",
        "    def forward(self, state):\n",
        "        x = F.relu(self.fc1(state))\n",
        "        x = F.relu(self.fc2(x))\n",
        "        x = F.relu(self.fc3(x))\n",
        "        return self.fc4(x)\n"
      ]
    },
    {
      "cell_type": "markdown",
      "metadata": {
        "id": "ycyE88J0nmuo"
      },
      "source": [
        "## Define RL Agent\n",
        "\n",
        "### ϵ - greedy policy\n",
        "- Always sampling from memory is not a wise choice, as the agent will not explore other potential actions and can reach a sub optimal solution. For this reason using ϵ-greedy algorithm helps in avoiding such problem. In this, experiences are chosen with 1-ϵ probability and ranomdly with probability ϵ.\n",
        "\n",
        "- Begin with a higher ϵ value and then gradually decrease the epsilon to minimum value to provide the balance between exploration and efficiency.\n",
        "\n",
        "### soft updates to target network\n",
        "- An other modification to online Q-learning aimed at further improving the stability of our method with neural networks is to use a separate network for gen- erating the targets yj in the Q-learning update. More precisely, every C updates we clone the network Q to obtain a target network Q^ and use Q^ for generating the Q-learning targets yj for the following C updates to Q. This modification makes the algorithm more stable compared to standard online Q-learning, where an update that increases Q(st,at) often also increases Q(st 1 1,a) for all a and hence also increases the target yj, possibly leading to oscillations or divergence of the policy. Generating the targets using an older set of parameters adds a delay between the time an update to Q is made and the time the update affects the targets yj, making divergence or oscillations much more unlikely."
      ]
    },
    {
      "cell_type": "code",
      "execution_count": 24,
      "metadata": {
        "id": "Niq5v3GreSAg"
      },
      "outputs": [],
      "source": [
        "class DQNAgent():\n",
        "    def __init__(self, state_size, action_size, seed):\n",
        "        self.state_size = state_size\n",
        "        self.action_size = action_size\n",
        "        self.seed = random.seed(seed)\n",
        "\n",
        "        # Q-Network\n",
        "        self.qnetwork_local = QNetwork(state_size, action_size, seed).to(device)\n",
        "        self.qnetwork_target = QNetwork(state_size, action_size, seed).to(device)\n",
        "        self.optimizer = optim.Adam(self.qnetwork_local.parameters(), lr=5e-4)\n",
        "\n",
        "        # Replay memory\n",
        "        self.memory = ReplayBuffer(int(1e5), 64)\n",
        "        # Initialize time step (for updating every UPDATE_EVERY steps)\n",
        "        self.t_step = 0\n",
        "\n",
        "    def step(self, state, action, reward, next_state, done):\n",
        "        # Save experience in replay memory\n",
        "        self.memory.add(state, action, reward, next_state, done)\n",
        "\n",
        "        # Learn every UPDATE_EVERY time steps.\n",
        "        self.t_step = (self.t_step + 1) % 4\n",
        "        if self.t_step == 0:\n",
        "            # If enough samples are available in memory, get random subset and learn\n",
        "            if len(self.memory) > 64:\n",
        "                experiences = self.memory.sample()\n",
        "                self.learn(experiences, 0.99)\n",
        "\n",
        "    def act(self, state, eps=0.):\n",
        "        state = torch.from_numpy(state).float().unsqueeze(0).to(device)\n",
        "        self.qnetwork_local.eval()\n",
        "        with torch.no_grad():\n",
        "            action_values = self.qnetwork_local(state)\n",
        "        self.qnetwork_local.train()\n",
        "\n",
        "        # Epsilon-greedy action selection\n",
        "        if random.random() > eps:\n",
        "            return np.argmax(action_values.cpu().data.numpy())\n",
        "        else:\n",
        "            return random.choice(np.arange(self.action_size))\n",
        "\n",
        "    def learn(self, experiences, gamma):\n",
        "        states, actions, rewards, next_states, dones = experiences\n",
        "\n",
        "        # Get max predicted Q values (for next states) from target model\n",
        "        Q_targets_next = self.qnetwork_target(next_states).detach().max(1)[0].unsqueeze(1)\n",
        "        # Compute Q targets for current states\n",
        "        Q_targets = rewards + (gamma * Q_targets_next * (1 - dones))\n",
        "\n",
        "        # Get expected Q values from local model\n",
        "        Q_expected = self.qnetwork_local(states).gather(1, actions)\n",
        "\n",
        "        # Compute loss\n",
        "        loss = F.mse_loss(Q_expected, Q_targets)\n",
        "        # Minimize the loss\n",
        "        self.optimizer.zero_grad()\n",
        "        loss.backward()\n",
        "        self.optimizer.step()\n",
        "\n",
        "        # ------------------- update target network ------------------- #\n",
        "        self.soft_update(self.qnetwork_local, self.qnetwork_target, 1e-3)\n",
        "\n",
        "    def soft_update(self, local_model, target_model, tau):\n",
        "        for target_param, local_param in zip(target_model.parameters(), local_model.parameters()):\n",
        "            target_param.data.copy_(tau*local_param.data + (1.0-tau)*target_param.data)"
      ]
    },
    {
      "cell_type": "markdown",
      "metadata": {
        "id": "SKiiSLi6Y3dc"
      },
      "source": [
        "\n",
        "* `self.qnetwork_target(next_states)`: This part of the code passes the batch of next states through the target Q-network to compute the Q-values for each action in each next state. The output is a tensor of shape `(batch_size, action_size)`.\n",
        "* `.detach()`: This method is used to detach the output tensor from the computation graph. This is done to prevent gradients from flowing back through the target Q-network during the optimization step.\n",
        "* `.max(1)[0]`: This part of the code computes the maximum Q-value for each next state in the batch. The `max` function returns a tuple of the maximum values and their indices, but we only care about the maximum values, so we take the first element of the tuple using `[0]`. The output is a tensor of shape `(batch_size,)`.\n",
        "* `.unsqueeze(1)`: This method is used to add a new dimension to the tensor at the specified position. In this case, we use `unsqueeze(1)` to add a new dimension to the tensor at position 1, which changes the shape of the tensor from `(batch_size,)` to `(batch_size, 1)`. This is done to make the tensor compatible with the shape of the other tensors in the computation graph.\n",
        "\n",
        "Overall, the line of code computes the maximum Q-value for each next state in the batch of experiences, detaches the output tensor from the computation graph to prevent gradients from flowing back through the target Q-network, and reshapes the tensor to have the same shape as the other tensors in the computation graph. This tensor is then used to compute the target Q-values for the current states in the batch of experiences."
      ]
    },
    {
      "cell_type": "markdown",
      "metadata": {
        "id": "PzH_5rHonugS"
      },
      "source": [
        "# Train and save the model"
      ]
    },
    {
      "cell_type": "code",
      "execution_count": 25,
      "metadata": {
        "colab": {
          "base_uri": "https://localhost:8080/"
        },
        "id": "axOtzju8ebzd",
        "outputId": "17a0b158-ecc1-49b2-e6e8-03a81793aa60"
      },
      "outputs": [
        {
          "name": "stdout",
          "output_type": "stream",
          "text": [
            "Episode 100\tAverage Score: 17.00\n",
            "Episode 200\tAverage Score: 12.20\n",
            "Episode 300\tAverage Score: 10.80\n",
            "Episode 400\tAverage Score: 10.53\n",
            "Episode 500\tAverage Score: 10.32\n",
            "Episode 600\tAverage Score: 10.02\n",
            "Episode 700\tAverage Score: 10.18\n",
            "Episode 800\tAverage Score: 10.85\n",
            "Episode 900\tAverage Score: 14.08\n",
            "Episode 1000\tAverage Score: 160.68\n",
            "Episode 1029\tAverage Score: 232.53\n",
            "Environment solved in 929 episodes!\tAverage Score: 232.53\n"
          ]
        }
      ],
      "source": [
        "def train_dqn(agent, env, n_episodes=2000, max_t=1000, eps_start=1.0, eps_end=0.01, eps_decay=0.995):\n",
        "    \"\"\"Deep Q-Learning.\n",
        "\n",
        "    Params\n",
        "    ======\n",
        "        n_episodes (int): maximum number of training episodes\n",
        "        max_t (int): maximum number of timesteps per episode\n",
        "        eps_start (float): starting value of epsilon, for epsilon-greedy action selection\n",
        "        eps_end (float): minimum value of epsilon\n",
        "        eps_decay (float): multiplicative factor (per episode) for decreasing epsilon\n",
        "    \"\"\"\n",
        "    scores = []                        # list containing scores from each episode\n",
        "    scores_window = deque(maxlen=100)  # last 100 scores\n",
        "    eps = eps_start                    # initialize epsilon\n",
        "    for i_episode in range(1, n_episodes+1):\n",
        "        state = env.reset()\n",
        "        score = 0\n",
        "        for t in range(max_t):\n",
        "            action = agent.act(state, eps)\n",
        "            next_state, reward, done, _ = env.step(action)\n",
        "            agent.step(state, action, reward, next_state, done)\n",
        "            state = next_state\n",
        "            score += reward\n",
        "            if done:\n",
        "                break\n",
        "        scores_window.append(score)       # save most recent score\n",
        "        scores.append(score)              # save most recent score\n",
        "        eps = max(eps_end, eps_decay*eps) # decrease epsilon\n",
        "        print('\\rEpisode {}\\tAverage Score: {:.2f}'.format(i_episode, np.mean(scores_window)), end=\"\")\n",
        "        if i_episode % 100 == 0:\n",
        "            print('\\rEpisode {}\\tAverage Score: {:.2f}'.format(i_episode, np.mean(scores_window)))\n",
        "        if np.mean(scores_window)>=230.0:\n",
        "            print('\\nEnvironment solved in {:d} episodes!\\tAverage Score: {:.2f}'.format(i_episode-100, np.mean(scores_window)))\n",
        "            torch.save(agent.qnetwork_local.state_dict(), './models/cartpole_dqn.pth') #save model\n",
        "            break\n",
        "    return scores\n",
        "\n",
        "# Initialize the environment and the agent\n",
        "env_name = \"CartPole-v1\" #\n",
        "env = gym.make(env_name)\n",
        "agent = DQNAgent(state_size=env.env.observation_space.shape[0], action_size=env.action_space.n, seed=0)\n",
        "\n",
        "# Train the agent\n",
        "scores = train_dqn(agent, env)\n"
      ]
    },
    {
      "cell_type": "code",
      "execution_count": 26,
      "metadata": {
        "colab": {
          "base_uri": "https://localhost:8080/",
          "height": 449
        },
        "id": "PwlMCEjghufV",
        "outputId": "63779d79-f6e5-4d83-b143-5456bc6891f3"
      },
      "outputs": [
        {
          "data": {
            "image/png": "[encoded data removed]",
            "text/plain": [
              "<Figure size 640x480 with 1 Axes>"
            ]
          },
          "metadata": {},
          "output_type": "display_data"
        }
      ],
      "source": [
        "plt.plot(np.arange(len(scores)), scores)\n",
        "plt.ylabel('Score')\n",
        "plt.xlabel('Episode #')\n",
        "plt.show()"
      ]
    },
    {
      "cell_type": "markdown",
      "metadata": {},
      "source": [
        "# Load model and test the agent"
      ]
    },
    {
      "cell_type": "code",
      "execution_count": 27,
      "metadata": {},
      "outputs": [],
      "source": [
        "def test_agent(agent, env, episodes):\n",
        "    scores = []\n",
        "    scores_window = deque(maxlen=10)\n",
        "    for episode in range(episodes):\n",
        "        score = 0\n",
        "        state = env.reset()\n",
        "        time_steps = 0\n",
        "        while True:\n",
        "            action = agent.act(state)\n",
        "            next_state,reward,done,_ = env.step(action)\n",
        "            state = next_state\n",
        "            score += reward\n",
        "            if done:\n",
        "                break\n",
        "            time_steps += 1\n",
        "        scores.append(score)\n",
        "        scores_window.append(score)\n",
        "        print('\\rEpisode:{}, \\tScore:{:.2f}'.format(episode, score))\n",
        "        # print('\\rNumber of steps:{}'.format(time_steps))\n",
        "    # if episode % 10 == 0:\n",
        "    #     print('\\rEpisode:{},\\tAverage Score: {:.2f}'.format(np.mean(scores_window)))\n",
        "    # if np.mean(scores_window) >= 200:\n",
        "        # print('\\nEnvironment solved in {:d} episodes, \\tAverage score:{:.2f}'.format(episode, np.mean(scores_window)))\n",
        "    print('\\rAverage score over {:d} episodes is:{:.2f}'.format(episodes, np.mean(scores_window)))"
      ]
    },
    {
      "cell_type": "code",
      "execution_count": 42,
      "metadata": {},
      "outputs": [
        {
          "name": "stdout",
          "output_type": "stream",
          "text": [
            "Episode:0, \tScore:225.00\n",
            "Episode:1, \tScore:216.00\n",
            "Episode:2, \tScore:197.00\n",
            "Episode:3, \tScore:206.00\n",
            "Episode:4, \tScore:210.00\n",
            "Episode:5, \tScore:228.00\n",
            "Episode:6, \tScore:208.00\n",
            "Episode:7, \tScore:201.00\n",
            "Episode:8, \tScore:210.00\n",
            "Episode:9, \tScore:209.00\n",
            "Average score over 10 episodes is:211.00\n"
          ]
        },
        {
          "name": "stderr",
          "output_type": "stream",
          "text": [
            "/tmp/ipykernel_453727/937163014.py:5: FutureWarning: You are using `torch.load` with `weights_only=False` (the current default value), which uses the default pickle module implicitly. It is possible to construct malicious pickle data which will execute arbitrary code during unpickling (See https://github.com/pytorch/pytorch/blob/main/SECURITY.md#untrusted-models for more details). In a future release, the default value for `weights_only` will be flipped to `True`. This limits the functions that could be executed during unpickling. Arbitrary objects will no longer be allowed to be loaded via this mode unless they are explicitly allowlisted by the user via `torch.serialization.add_safe_globals`. We recommend you start setting `weights_only=True` for any use case where you don't have full control of the loaded file. Please open an issue on GitHub for any issues related to this experimental feature.\n",
            "  agent.qnetwork_local.load_state_dict(torch.load('./models/cartpole_dqn.pth'))\n"
          ]
        }
      ],
      "source": [
        "# initialize the environment\n",
        "env = gym.make('CartPole-v1')\n",
        "agent = DQNAgent(state_size=env.env.observation_space.shape[0], action_size=env.action_space.n, seed=0)\n",
        "# load the weights\n",
        "agent.qnetwork_local.load_state_dict(torch.load('./models/cartpole_dqn.pth'))\n",
        "# test the agent\n",
        "test_agent(agent, env, episodes = 10)"
      ]
    }
  ],
  "metadata": {
    "colab": {
      "provenance": []
    },
    "kernelspec": {
      "display_name": "Python 3",
      "name": "python3"
    },
    "language_info": {
      "codemirror_mode": {
        "name": "ipython",
        "version": 3
      },
      "file_extension": ".py",
      "mimetype": "text/x-python",
      "name": "python",
      "nbconvert_exporter": "python",
      "pygments_lexer": "ipython3",
      "version": "3.12.4"
    }
  },
  "nbformat": 4,
  "nbformat_minor": 0
}
